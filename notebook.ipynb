{
 "cells": [
  {
   "cell_type": "markdown",
   "metadata": {},
   "source": [
    "# Debiasing Word Embeddings: Neutralization and Equalization\n",
    "\n",
    "`Description:`  \n",
    "\n",
    "In this notebook, we explore and reduce gender bias in word embeddings using GloVe vectors. \n",
    "\n",
    "- Performed a word analogy task (e.g., \"man : doctor :: woman : ?\"), which helps reveal hidden gender biases in the embeddings.\n",
    "- Measure gender bias using cosine similarity with a gender direction vector (g)\n",
    "- Apply neutralization to make gender-neutral words like \"doctor\" and \"receptionist\" unbiased\n",
    "- Use equalization to ensure gendered pairs like \"man/woman\" and \"king/queen\" are symmetrically aligned\n",
    "- Visualize the effect of debiasing with cosine similarity charts  \n",
    "\n",
    "This notebook is based on methods from the paper by [Boliukbasi et al., 2016](https://arxiv.org/abs/1607.06520)."
   ]
  },
  {
   "cell_type": "code",
   "execution_count": 72,
   "metadata": {},
   "outputs": [],
   "source": [
    "import numpy as np\n",
    "import matplotlib.pyplot as plt\n",
    "from numpy.linalg import norm"
   ]
  },
  {
   "cell_type": "code",
   "execution_count": 73,
   "metadata": {},
   "outputs": [],
   "source": [
    "def read_glove_vecs(glove_file):\n",
    "    with open(glove_file, 'r') as f:\n",
    "        words = set()\n",
    "        word_to_vec_map = {}\n",
    "        \n",
    "        for line in f:\n",
    "            line = line.strip().split()\n",
    "            curr_word = line[0]\n",
    "            words.add(curr_word)\n",
    "            word_to_vec_map[curr_word] = np.array(line[1:], dtype=np.float64)\n",
    "            \n",
    "    return words, word_to_vec_map"
   ]
  },
  {
   "cell_type": "code",
   "execution_count": 74,
   "metadata": {},
   "outputs": [],
   "source": [
    "words, word_to_vec_map = read_glove_vecs('data/glove.6B.50d.txt')"
   ]
  },
  {
   "cell_type": "code",
   "execution_count": 75,
   "metadata": {},
   "outputs": [
    {
     "name": "stdout",
     "output_type": "stream",
     "text": [
      "400000\n"
     ]
    }
   ],
   "source": [
    "print(len(words))"
   ]
  },
  {
   "cell_type": "code",
   "execution_count": 76,
   "metadata": {},
   "outputs": [
    {
     "name": "stdout",
     "output_type": "stream",
     "text": [
      "50\n"
     ]
    },
    {
     "data": {
      "text/plain": [
       "array([ 0.50451 ,  0.68607 , -0.59517 , -0.022801,  0.60046 , -0.13498 ,\n",
       "       -0.08813 ,  0.47377 , -0.61798 , -0.31012 , -0.076666,  1.493   ,\n",
       "       -0.034189, -0.98173 ,  0.68229 ,  0.81722 , -0.51874 , -0.31503 ,\n",
       "       -0.55809 ,  0.66421 ,  0.1961  , -0.13495 , -0.11476 , -0.30344 ,\n",
       "        0.41177 , -2.223   , -1.0756  , -1.0783  , -0.34354 ,  0.33505 ,\n",
       "        1.9927  , -0.04234 , -0.64319 ,  0.71125 ,  0.49159 ,  0.16754 ,\n",
       "        0.34344 , -0.25663 , -0.8523  ,  0.1661  ,  0.40102 ,  1.1685  ,\n",
       "       -1.0137  , -0.21585 , -0.15155 ,  0.78321 , -0.91241 , -1.6106  ,\n",
       "       -0.64426 , -0.51042 ])"
      ]
     },
     "execution_count": 76,
     "metadata": {},
     "output_type": "execute_result"
    }
   ],
   "source": [
    "print(len(word_to_vec_map['king']))\n",
    "word_to_vec_map['king']"
   ]
  },
  {
   "cell_type": "markdown",
   "metadata": {},
   "source": [
    "$$\\text{CosineSimilarity(u, v)} = \\frac {u \\cdot v} {||u||_2 ||v||_2} = cos(\\theta)$$"
   ]
  },
  {
   "cell_type": "code",
   "execution_count": 77,
   "metadata": {},
   "outputs": [],
   "source": [
    "def cosine_similarity(u, v):\n",
    "    if np.all(u == v):\n",
    "        return 1\n",
    "    \n",
    "    norm_u = np.linalg.norm(u)\n",
    "    norm_v = np.linalg.norm(v)\n",
    "    \n",
    "    if np.isclose(norm_u * norm_v, 0, atol=1e-32):\n",
    "        return 0  # Avoid division by zero\n",
    "    \n",
    "    return np.dot(u, v) / (norm_u * norm_v)"
   ]
  },
  {
   "cell_type": "code",
   "execution_count": 79,
   "metadata": {},
   "outputs": [
    {
     "name": "stdout",
     "output_type": "stream",
     "text": [
      "0.8909038442893615\n",
      "0.5187136402036469\n",
      "0.9026352642565105\n"
     ]
    }
   ],
   "source": [
    "father = word_to_vec_map[\"father\"]\n",
    "mother = word_to_vec_map[\"mother\"]\n",
    "the = word_to_vec_map['the']\n",
    "of = word_to_vec_map['of']\n",
    "\n",
    "print(cosine_similarity(father, mother))\n",
    "print(cosine_similarity(father, the))\n",
    "print(cosine_similarity(of, the))"
   ]
  },
  {
   "cell_type": "markdown",
   "metadata": {},
   "source": [
    "## Word Analogy"
   ]
  },
  {
   "cell_type": "code",
   "execution_count": 80,
   "metadata": {},
   "outputs": [],
   "source": [
    "def complete_analogy(word_a, word_b, word_c, word_to_vec_map):\n",
    "    \"\"\"\n",
    "    Solves analogy: word_a is to word_b as word_c is to ?\n",
    "    Example: 'man' : 'king' :: 'woman' : ?\n",
    "\n",
    "    Arguments:\n",
    "    word_a, word_b, word_c -- strings\n",
    "    word_to_vec_map -- dictionary mapping words to GloVe vectors\n",
    "\n",
    "    Returns:\n",
    "    best_word -- word that best fits the analogy\n",
    "    \"\"\"\n",
    "    word_a, word_b, word_c = word_a.lower(), word_b.lower(), word_c.lower()\n",
    "    \n",
    "    e_a, e_b, e_c = word_to_vec_map[word_a], word_to_vec_map[word_b], word_to_vec_map[word_c]\n",
    "    target_vector = e_b - e_a + e_c\n",
    "\n",
    "    max_similarity = -np.inf\n",
    "    best_word = None\n",
    "\n",
    "    for word, vec in word_to_vec_map.items():\n",
    "        if word in [word_a, word_b, word_c]:\n",
    "            continue\n",
    "\n",
    "        sim = cosine_similarity(target_vector, vec)\n",
    "        if sim > max_similarity:\n",
    "            max_similarity = sim\n",
    "            best_word = word\n",
    "\n",
    "    return best_word"
   ]
  },
  {
   "cell_type": "code",
   "execution_count": 81,
   "metadata": {},
   "outputs": [
    {
     "name": "stdout",
     "output_type": "stream",
     "text": [
      "italy : italian :: spain : spanish\n",
      "india : delhi :: japan : tokyo\n",
      "man : woman :: boy : girl\n",
      "small : smaller :: large : larger\n"
     ]
    }
   ],
   "source": [
    "to_try = [\n",
    "    ('italy', 'italian', 'spain'),\n",
    "    ('india', 'delhi', 'japan'),\n",
    "    ('man', 'woman', 'boy'),\n",
    "    ('small', 'smaller', 'large')\n",
    "]\n",
    "\n",
    "for a, b, c in to_try:\n",
    "    result = complete_analogy(a, b, c, words_to_vec_map)\n",
    "    print(f\"{a} : {b} :: {c} : {result}\")"
   ]
  },
  {
   "cell_type": "markdown",
   "metadata": {},
   "source": [
    "## Debiasing Word Vectors\n",
    "Bias exists when a word is gender-neutral in meaning but shows strong alignment with one gender"
   ]
  },
  {
   "cell_type": "code",
   "execution_count": 82,
   "metadata": {},
   "outputs": [
    {
     "name": "stdout",
     "output_type": "stream",
     "text": [
      "man : doctor :: woman : nurse\n"
     ]
    }
   ],
   "source": [
    "a, b, c = ('man', 'doctor', 'woman')\n",
    "result = complete_analogy(a, b, c, word_to_vec_map)\n",
    "print(f\"{a} : {b} :: {c} : {result}\")"
   ]
  },
  {
   "cell_type": "markdown",
   "metadata": {},
   "source": [
    "Even though:\n",
    "doctor is gender-neutral, the model associates 'woman' more with 'nurse' than 'doctor'"
   ]
  },
  {
   "cell_type": "code",
   "execution_count": 83,
   "metadata": {},
   "outputs": [
    {
     "name": "stdout",
     "output_type": "stream",
     "text": [
      "[-0.087144    0.2182     -0.40986    -0.03922    -0.1032      0.94165\n",
      " -0.06042     0.32988     0.46144    -0.35962     0.31102    -0.86824\n",
      "  0.96006     0.01073     0.24337     0.08193    -1.02722    -0.21122\n",
      "  0.695044   -0.00222     0.29106     0.5053     -0.099454    0.40445\n",
      "  0.30181     0.1355     -0.0606     -0.07131    -0.19245    -0.06115\n",
      " -0.3204      0.07165    -0.13337    -0.25068714 -0.14293    -0.224957\n",
      " -0.149       0.048882    0.12191    -0.27362    -0.165476   -0.20426\n",
      "  0.54376    -0.271425   -0.10245    -0.32108     0.2516     -0.33455\n",
      " -0.04371     0.01258   ]\n"
     ]
    }
   ],
   "source": [
    "g = word_to_vec_map['woman'] - word_to_vec_map['man']\n",
    "print(g)"
   ]
  },
  {
   "cell_type": "code",
   "execution_count": 84,
   "metadata": {},
   "outputs": [
    {
     "name": "stdout",
     "output_type": "stream",
     "text": [
      "List of names and their similarities with constructed vector:\n",
      "john -0.23163356145973724\n",
      "marie 0.315597935396073\n",
      "sophie 0.31868789859418784\n",
      "ronaldo -0.31244796850329437\n",
      "priya 0.17632041839009402\n",
      "rahul -0.1691547103923172\n",
      "danielle 0.24393299216283895\n",
      "reza -0.07930429672199553\n",
      "katy 0.2831068659572615\n",
      "yasmin 0.23313857767928758\n"
     ]
    }
   ],
   "source": [
    "print ('List of names and their similarities with constructed vector:')\n",
    "\n",
    "# girls and boys name\n",
    "name_list = ['john', 'marie', 'sophie', 'ronaldo', 'priya', 'rahul', 'danielle', 'reza', 'katy', 'yasmin']\n",
    "\n",
    "for w in name_list:\n",
    "    print (w, cosine_similarity(word_to_vec_map[w], g))"
   ]
  },
  {
   "cell_type": "markdown",
   "metadata": {},
   "source": [
    "| Similarity Value | Interpretation                                |\n",
    "|------------------|-----------------------------------------------|\n",
    "| **+1.0**         | Strongly aligned with **female** direction    |\n",
    "| **0.0**          | Neutral - not aligned with male or female bias |\n",
    "| **-1.0**         | Strongly aligned with **male** direction      |\n"
   ]
  },
  {
   "cell_type": "code",
   "execution_count": 85,
   "metadata": {},
   "outputs": [
    {
     "name": "stdout",
     "output_type": "stream",
     "text": [
      "Other words and their similarities:\n",
      "lipstick 0.27691916256382665\n",
      "guns -0.1888485567898898\n",
      "science -0.06082906540929699\n",
      "arts 0.008189312385880344\n",
      "literature 0.0647250443345993\n",
      "warrior -0.20920164641125288\n",
      "doctor 0.11895289410935043\n",
      "tree -0.07089399175478092\n",
      "receptionist 0.3307794175059374\n",
      "technology -0.13193732447554296\n",
      "fashion 0.035638946257727\n",
      "teacher 0.1792092343182567\n",
      "engineer -0.08039280494524072\n",
      "pilot 0.0010764498991917074\n",
      "computer -0.10330358873850498\n",
      "singer 0.18500518136496297\n"
     ]
    }
   ],
   "source": [
    "print('Other words and their similarities:')\n",
    "word_list = ['lipstick', 'guns', 'science', 'arts', 'literature', 'warrior','doctor', 'tree', 'receptionist', \n",
    "             'technology',  'fashion', 'teacher', 'engineer', 'pilot', 'computer', 'singer']\n",
    "for w in word_list:\n",
    "    print (w, cosine_similarity(word_to_vec_map[w], g))"
   ]
  },
  {
   "cell_type": "markdown",
   "metadata": {},
   "source": [
    "Some Words with unexpected gender associations:\n",
    "\n",
    "Science  \n",
    "Doctor  \n",
    "Receptionist  \n",
    "Teacher  \n",
    "Computer  \n",
    "Singer  \n",
    "\n",
    "These words are not inherently gendered, yet the embeddings associate them with one gender due to biases in the training data"
   ]
  },
  {
   "cell_type": "code",
   "execution_count": 86,
   "metadata": {},
   "outputs": [
    {
     "name": "stderr",
     "output_type": "stream",
     "text": [
      "100%|██████████| 400000/400000 [00:04<00:00, 88087.41it/s]\n"
     ]
    }
   ],
   "source": [
    "from tqdm import tqdm\n",
    "word_to_vec_map_unit_vectors = {\n",
    "    word: embedding / np.linalg.norm(embedding)\n",
    "    for word, embedding in tqdm(word_to_vec_map.items())\n",
    "}"
   ]
  },
  {
   "cell_type": "code",
   "execution_count": 37,
   "metadata": {},
   "outputs": [],
   "source": [
    "g_unit = word_to_vec_map_unit_vectors['woman'] - word_to_vec_map_unit_vectors['man']"
   ]
  },
  {
   "cell_type": "markdown",
   "metadata": {},
   "source": [
    "### `neutralize()`"
   ]
  },
  {
   "cell_type": "markdown",
   "metadata": {},
   "source": [
    "Goal of the `neutralize()` Function  \n",
    "To remove unwanted bias (like gender) from the word vector of a gender-neutral word (e.g., \"doctor\", \"teacher\", \"scientist\") by projecting it orthogonal (perpendicular) to the bias direction vector g."
   ]
  },
  {
   "cell_type": "markdown",
   "metadata": {},
   "source": [
    "### Projection in Linear Algebra\n",
    "\n",
    "To project a vector **e** onto another vector **g**, we use the projection formula:\n",
    "\n",
    "$$\n",
    "\\text{proj}_{\\vec{g}}(\\vec{e}) = \\left( \\frac{\\vec{e} \\cdot \\vec{g}}{||\\vec{g}||^2} \\right) \\vec{g}\n",
    "$$\n",
    "\n",
    "Where:\n",
    "\n",
    "- $\\vec{e} \\cdot \\vec{g}$ is the **dot product** of vectors **e** and **g**\n",
    "- $||\\vec{g}||^2$ is the **squared L2 norm** (length) of vector **g**\n",
    "- The result is a vector in the direction of **g**, representing how much **e** aligns with **g**\n"
   ]
  },
  {
   "cell_type": "markdown",
   "metadata": {},
   "source": [
    "The results above reflect certain unhealthy gender stereotypes. For example, we see “computer” is negative and is closer in value to male first names, while “literature” is positive and is closer to female first names. This is not good. \n",
    "\n",
    "Reducing the bias of these vectors, using an algorithm due to [Boliukbasi et al., 2016](https://arxiv.org/abs/1607.06520). Some word pairs such as \"actor\"/\"actress\" or \"grandmother\"/\"grandfather\" should remain gender-specific, while other words such as \"receptionist\" or \"technology\" should be neutralized, i.e. not be gender-related. We'll have to treat these two types of words differently when debiasing.\n",
    "\n",
    "### Neutralize Bias for Non-Gender Specific Words \n",
    "\n",
    "If we're using a 50-dimensional word embedding, the 50 dimensional space can be split into two parts: The bias-direction $g$, and the remaining 49 dimensions, which is called $g_{\\perp}$ here. In linear algebra, we say that the 49-dimensional $g_{\\perp}$ is perpendicular (or \"orthogonal\") to $g$, meaning it is at 90 degrees to $g$. The neutralization step takes a vector such as $e_{receptionist}$ and zeros out the component in the direction of $g$, giving us $e_{receptionist}^{debiased}$. \n",
    "\n",
    "<img src=\"images/neutral.png\" style=\"width:800px;height:300px;\">\n",
    "<caption><center><font color='purple'><b>Figure 2</b>: The word vector for \"receptionist\" represented before and after applying the neutralize operation.</font> </center></caption>\n",
    "\n",
    "**Note:** The [paper](https://papers.nips.cc/paper/6228-man-is-to-computer-programmer-as-woman-is-to-homemaker-debiasing-word-embeddings.pdf), which the debiasing algorithm is from, assumes all word vectors to have L2 norm as 1 and hence the need for the calculations below:"
   ]
  },
  {
   "cell_type": "code",
   "execution_count": 87,
   "metadata": {},
   "outputs": [],
   "source": [
    "def neutralize(word, g, word_to_vec_map):\n",
    "    \"\"\"\n",
    "    Removes bias from a gender-neutral word by making it orthogonal to the gender direction.\n",
    "\n",
    "    Arguments:\n",
    "        word -- the word to neutralize (e.g., \"doctor\")\n",
    "        g -- the bias direction vector (e.g., gender direction = woman - man)\n",
    "        word_to_vec_map -- a dictionary mapping words to their GloVe vector embeddings\n",
    "\n",
    "    Returns:\n",
    "        e_debiased -- the debiased (neutralized) word vector\n",
    "    \"\"\"\n",
    "    \n",
    "    e = word_to_vec_map[word]\n",
    "    \n",
    "    # compute the bias component of this word along the gender direction\n",
    "    # This projects the word vector onto the bias direction\n",
    "    e_biascomponent = (np.dot(e, g) / np.linalg.norm(g)) * g\n",
    "\n",
    "    # subtract the bias component to get the debiased vector (orthogonal to g)\n",
    "    e_debiased = e - e_biascomponent\n",
    "\n",
    "    return e_debiased"
   ]
  },
  {
   "cell_type": "code",
   "execution_count": 88,
   "metadata": {},
   "outputs": [
    {
     "name": "stdout",
     "output_type": "stream",
     "text": [
      "cosine similarity between receptionist and g, before neutralizing:  0.3307794175059374\n",
      "cosine similarity between receptionist and g_unit, after neutralizing:  0.1534722128532278\n"
     ]
    }
   ],
   "source": [
    "word = \"receptionist\"\n",
    "print(\"cosine similarity between \" + word + \" and g, before neutralizing: \", cosine_similarity(word_to_vec_map[word], g))\n",
    "\n",
    "e_debiased = neutralize(word, g_unit, word_to_vec_map_unit_vectors)\n",
    "print(\"cosine similarity between \" + word + \" and g_unit, after neutralizing: \", cosine_similarity(e_debiased, g_unit))"
   ]
  },
  {
   "cell_type": "code",
   "execution_count": 89,
   "metadata": {},
   "outputs": [
    {
     "name": "stdout",
     "output_type": "stream",
     "text": [
      "receptionist    | before: 0.3308 | after: 0.1535 | % reduced: 53.60 %\n",
      "nurse           | before: 0.3803 | after: 0.1627 | % reduced: 57.23 %\n",
      "baker           | before: -0.1371 | after: -0.1019 | % reduced: 25.66 %\n",
      "journalist      | before: 0.1165 | after: 0.0211 | % reduced: 81.92 %\n"
     ]
    }
   ],
   "source": [
    "neutral_words = [\"receptionist\", \"nurse\", \"baker\", \"journalist\"]\n",
    "\n",
    "for word in neutral_words:\n",
    "    if word in word_to_vec_map:\n",
    "        before = cosine_similarity(word_to_vec_map[word], g)\n",
    "        e_debiased = neutralize(word, g_unit, word_to_vec_map_unit_vectors)\n",
    "        after = cosine_similarity(e_debiased, g_unit)\n",
    "        print(f\"{word:15s} | before: {before:.4f} | after: {after:.4f} | % reduced: {100*(before-after)/before:.2f} %\")\n",
    "    else:\n",
    "        print(f\"{word:15s} not in vocabulary.\")"
   ]
  },
  {
   "cell_type": "markdown",
   "metadata": {},
   "source": [
    "## Equalization Algorithm for Gender-Specific Words\n",
    "\n",
    "Debiasing can also be applied to word pairs such as \"actress\" and \"actor.\" Equalization is applied to pairs of words that we might want to have differ only through the gender property. As a concrete example, suppose that \"actress\" is closer to \"babysit\" than \"actor.\" By applying neutralization to \"babysit,\" we can reduce the gender stereotype associated with babysitting. But this still does not guarantee that \"actor\" and \"actress\" are equidistant from \"babysit.\" The equalization algorithm takes care of this. \n",
    "\n",
    "The key idea behind equalization is to make sure that a particular pair of words are equidistant from the 49-dimensional $g_\\perp$. The equalization step also ensures that the two equalized steps are now the same distance from $e_{receptionist}^{debiased}$, or from any other work that has been neutralized. Visually, this is how equalization works: \n",
    "\n",
    "<img src=\"images/equalize10.png\" style=\"width:800px;height:400px;\">\n",
    "\n",
    "\n",
    "The derivation of the linear algebra. (See Bolukbasi et al., 2016 in the References for details.) The key equations: \n",
    "\n",
    "\n",
    "$$ \\mu = \\frac{e_{w1} + e_{w2}}{2}$$ \n",
    "\n",
    "$$ \\mu_{B} = \\frac {\\mu \\cdot \\text{bias_axis}}{||\\text{bias_axis}||_2^2} *\\text{bias_axis}$$ \n",
    "\n",
    "$$\\mu_{\\perp} = \\mu - \\mu_{B}$$\n",
    "\n",
    "$$ e_{w1B} = \\frac {e_{w1} \\cdot \\text{bias_axis}}{||\\text{bias_axis}||_2^2} *\\text{bias_axis}$$ \n",
    "$$ e_{w2B} = \\frac {e_{w2} \\cdot \\text{bias_axis}}{||\\text{bias_axis}||_2^2} *\\text{bias_axis}$$\n",
    "\n",
    "\n",
    "$$e_{w1B}^{corrected} = \\sqrt{{1 - ||\\mu_{\\perp} ||^2_2}} * \\frac{e_{\\text{w1B}} - \\mu_B} {||e_{w1B} - \\mu_B||_2}$$\n",
    "\n",
    "\n",
    "$$e_{w2B}^{corrected} = \\sqrt{{1 - ||\\mu_{\\perp} ||^2_2}} * \\frac{e_{\\text{w2B}} - \\mu_B} {||e_{w2B} - \\mu_B||_2}$$\n",
    "\n",
    "$$e_1 = e_{w1B}^{corrected} + \\mu_{\\perp}$$\n",
    "$$e_2 = e_{w2B}^{corrected} + \\mu_{\\perp}$$"
   ]
  },
  {
   "cell_type": "markdown",
   "metadata": {},
   "source": [
    "### `equalize()`"
   ]
  },
  {
   "cell_type": "code",
   "execution_count": 90,
   "metadata": {},
   "outputs": [],
   "source": [
    "def equalize(pair, bias_axis, word_to_vec_map):\n",
    "    w1, w2 = pair\n",
    "    e_w1, e_w2 = word_to_vec_map[w1], word_to_vec_map[w2]\n",
    "    mu = (e_w1 + e_w2) / 2\n",
    "    \n",
    "    # the projections of mu over the bias axis and the orthogonal axis (≈ 2 lines)\n",
    "    mu_B = (np.dot(mu, bias_axis)/np.linalg.norm(bias_axis)) * bias_axis\n",
    "    mu_orth = mu - mu_B\n",
    "    \n",
    "    e_w1B = (np.dot(e_w1, bias_axis)/np.linalg.norm(bias_axis)) * bias_axis\n",
    "    e_w2B = (np.dot(e_w2, bias_axis)/np.linalg.norm(bias_axis)) * bias_axis\n",
    "    \n",
    "    sqrt = np.sqrt(max(0, 1 - np.linalg.norm(mu_orth) ** 2))\n",
    "    corrected_e_w1B = sqrt * (e_w1B - mu_B) / np.linalg.norm(e_w1B - mu_B)\n",
    "    corrected_e_w2B = sqrt * (e_w2B - mu_B) / np.linalg.norm(e_w2B - mu_B)\n",
    "    \n",
    "    e1 = corrected_e_w1B + mu_orth\n",
    "    e2 = corrected_e_w2B + mu_orth\n",
    "    \n",
    "    return e1, e2\n",
    "\n",
    "\n",
    "\n",
    "def equalize(pair, bias_axis, word_to_vec_map):\n",
    "    \"\"\"\n",
    "    Equalize the word pair along the bias axis, making them symmetric with respect to the gender direction.\n",
    "\n",
    "    Arguments:\n",
    "    pair -- tuple of strings (word1, word2), gender pair to equalize\n",
    "    bias_axis -- numpy array, the bias direction (e.g., g = woman - man)\n",
    "    word_to_vec_map -- dictionary mapping words to their word embeddings\n",
    "\n",
    "    Returns:\n",
    "    e1 -- equalized embedding for word1\n",
    "    e2 -- equalized embedding for word2\n",
    "    \"\"\"\n",
    "    w1, w2 = pair\n",
    "    e_w1, e_w2 = word_to_vec_map[w1], word_to_vec_map[w2]\n",
    "\n",
    "    # compute the mean vector\n",
    "    mu = (e_w1 + e_w2) / 2\n",
    "\n",
    "    # project μ onto the bias axis\n",
    "    mu_B = (np.dot(mu, bias_axis) / np.linalg.norm(bias_axis)) * bias_axis\n",
    "\n",
    "    # compute the component of u orthogonal to the bias axis\n",
    "    mu_orth = mu - mu_B\n",
    "\n",
    "    # project e_w1 and e_w2 onto the bias axis: e_w1B, e_w2B\n",
    "    e_w1B = (np.dot(e_w1, bias_axis) / np.linalg.norm(bias_axis)) * bias_axis\n",
    "    e_w2B = (np.dot(e_w2, bias_axis) / np.linalg.norm(bias_axis)) * bias_axis\n",
    "\n",
    "    # compute the corrected projections to ensure symmetry\n",
    "    sqrt = np.sqrt(max(0, 1 - np.linalg.norm(mu_orth) ** 2))\n",
    "\n",
    "    corrected_e_w1B = sqrt * (e_w1B - mu_B) / np.linalg.norm(e_w1B - mu_B)\n",
    "    corrected_e_w2B = sqrt * (e_w2B - mu_B) / np.linalg.norm(e_w2B - mu_B)\n",
    "\n",
    "    # add the orthogonal component back to form the final equalized vectors\n",
    "    e1 = corrected_e_w1B + mu_orth\n",
    "    e2 = corrected_e_w2B + mu_orth\n",
    "\n",
    "    return e1, e2"
   ]
  },
  {
   "cell_type": "code",
   "execution_count": 91,
   "metadata": {},
   "outputs": [
    {
     "name": "stdout",
     "output_type": "stream",
     "text": [
      "cosine similarities before equalizing:\n",
      "cosine_similarity(word_to_vec_map[\"man\"], gender) =  -0.1171109576533683\n",
      "cosine_similarity(word_to_vec_map[\"woman\"], gender) =  0.35666618846270376\n",
      "\n",
      "cosine similarities after equalizing:\n",
      "cosine_similarity(e1, gender) =  -0.2387113614288381\n",
      "cosine_similarity(e2, gender) =  0.23871136142883817\n"
     ]
    }
   ],
   "source": [
    "print(\"cosine similarities before equalizing:\")\n",
    "print(\"cosine_similarity(word_to_vec_map[\\\"man\\\"], gender) = \", cosine_similarity(word_to_vec_map[\"man\"], g))\n",
    "print(\"cosine_similarity(word_to_vec_map[\\\"woman\\\"], gender) = \", cosine_similarity(word_to_vec_map[\"woman\"], g))\n",
    "print()\n",
    "e1, e2 = equalize((\"man\", \"woman\"), g_unit, word_to_vec_map_unit_vectors)\n",
    "print(\"cosine similarities after equalizing:\")\n",
    "print(\"cosine_similarity(e1, gender) = \", cosine_similarity(e1, g_unit))\n",
    "print(\"cosine_similarity(e2, gender) = \", cosine_similarity(e2, g_unit))"
   ]
  },
  {
   "cell_type": "code",
   "execution_count": 92,
   "metadata": {},
   "outputs": [],
   "source": [
    "pairs_to_test = [\n",
    "    (\"man\", \"woman\"),\n",
    "    (\"king\", \"queen\"),\n",
    "    (\"father\", \"mother\"),\n",
    "    (\"boy\", \"girl\"),\n",
    "    (\"brother\", \"sister\"),\n",
    "    (\"he\", \"she\"),\n",
    "    (\"son\", \"daughter\"),\n",
    "    (\"actor\", \"actress\"),\n",
    "]"
   ]
  },
  {
   "cell_type": "code",
   "execution_count": 93,
   "metadata": {},
   "outputs": [
    {
     "name": "stdout",
     "output_type": "stream",
     "text": [
      "--- MAN / WOMAN ---\n",
      "Before equalizing:\n",
      "cosine_similarity(man, gender) = -0.1171109576533683\n",
      "cosine_similarity(woman, gender) = 0.35666618846270376\n",
      "After equalizing:\n",
      "cosine_similarity(man_eq, gender) = -0.2387113614288381\n",
      "cosine_similarity(woman_eq, gender) = 0.23871136142883817\n",
      "Symmetry check (should be ≈ equal & opposite): diff = 0.0000\n",
      "\n",
      "--- KING / QUEEN ---\n",
      "Before equalizing:\n",
      "cosine_similarity(king, gender) = -0.18875684078397284\n",
      "cosine_similarity(queen, gender) = 0.2044893354882803\n",
      "After equalizing:\n",
      "cosine_similarity(king_eq, gender) = -0.3594664715532\n",
      "cosine_similarity(queen_eq, gender) = 0.30497783136576695\n",
      "Symmetry check (should be ≈ equal & opposite): diff = 0.0545\n",
      "\n",
      "--- FATHER / MOTHER ---\n",
      "Before equalizing:\n",
      "cosine_similarity(father, gender) = 0.03416437478068676\n",
      "cosine_similarity(mother, gender) = 0.34016319002265677\n",
      "After equalizing:\n",
      "cosine_similarity(father_eq, gender) = -0.20179234666664184\n",
      "cosine_similarity(mother_eq, gender) = 0.2875043903426715\n",
      "Symmetry check (should be ≈ equal & opposite): diff = 0.0857\n",
      "\n",
      "--- BOY / GIRL ---\n",
      "Before equalizing:\n",
      "cosine_similarity(boy, gender) = 0.11556943239402848\n",
      "cosine_similarity(girl, gender) = 0.3484373987185022\n",
      "After equalizing:\n",
      "cosine_similarity(boy_eq, gender) = -0.1489152121284567\n",
      "cosine_similarity(girl_eq, gender) = 0.273294276071296\n",
      "Symmetry check (should be ≈ equal & opposite): diff = 0.1244\n",
      "\n",
      "--- BROTHER / SISTER ---\n",
      "Before equalizing:\n",
      "cosine_similarity(brother, gender) = -0.13370183733273525\n",
      "cosine_similarity(sister, gender) = 0.3547725266070532\n",
      "After equalizing:\n",
      "cosine_similarity(brother_eq, gender) = -0.3598564821948336\n",
      "cosine_similarity(sister_eq, gender) = 0.3828847829868767\n",
      "Symmetry check (should be ≈ equal & opposite): diff = 0.0230\n",
      "\n",
      "--- HE / SHE ---\n",
      "Before equalizing:\n",
      "cosine_similarity(he, gender) = -0.13626232497733803\n",
      "cosine_similarity(she, gender) = 0.20256080454753092\n",
      "After equalizing:\n",
      "cosine_similarity(he_eq, gender) = -0.2779999359135808\n",
      "cosine_similarity(she_eq, gender) = 0.2134797736085985\n",
      "Symmetry check (should be ≈ equal & opposite): diff = 0.0645\n",
      "\n",
      "--- SON / DAUGHTER ---\n",
      "Before equalizing:\n",
      "cosine_similarity(son, gender) = -0.04168974224633768\n",
      "cosine_similarity(daughter, gender) = 0.32651056887942637\n",
      "After equalizing:\n",
      "cosine_similarity(son_eq, gender) = -0.20588977816828286\n",
      "cosine_similarity(daughter_eq, gender) = 0.2583457823138725\n",
      "Symmetry check (should be ≈ equal & opposite): diff = 0.0525\n",
      "\n",
      "--- ACTOR / ACTRESS ---\n",
      "Before equalizing:\n",
      "cosine_similarity(actor, gender) = -0.08387555382505694\n",
      "cosine_similarity(actress, gender) = 0.33422494897899774\n",
      "After equalizing:\n",
      "cosine_similarity(actor_eq, gender) = -0.25028201472292017\n",
      "cosine_similarity(actress_eq, gender) = 0.3012084606424189\n",
      "Symmetry check (should be ≈ equal & opposite): diff = 0.0509\n",
      "\n"
     ]
    }
   ],
   "source": [
    "for w1, w2 in pairs_to_test:\n",
    "    print(f\"--- {w1.upper()} / {w2.upper()} ---\")\n",
    "    print(\"Before equalizing:\")\n",
    "    print(f\"cosine_similarity({w1}, gender) = {cosine_similarity(word_to_vec_map[w1], g)}\")\n",
    "    print(f\"cosine_similarity({w2}, gender) = {cosine_similarity(word_to_vec_map[w2], g)}\")\n",
    "    \n",
    "    e1, e2 = equalize((w1, w2), g_unit, word_to_vec_map_unit_vectors)\n",
    "    \n",
    "    print(\"After equalizing:\")\n",
    "    print(f\"cosine_similarity({w1}_eq, gender) = {cosine_similarity(e1, g_unit)}\")\n",
    "    print(f\"cosine_similarity({w2}_eq, gender) = {cosine_similarity(e2, g_unit)}\")\n",
    "    print(f\"Symmetry check (should be ≈ equal & opposite): diff = {abs(cosine_similarity(e1, g_unit) + cosine_similarity(e2, g_unit)):.4f}\")\n",
    "    print()"
   ]
  },
  {
   "cell_type": "code",
   "execution_count": 94,
   "metadata": {
    "scrolled": false
   },
   "outputs": [
    {
     "data": {
      "image/png": "[encoded data removed]",
      "text/plain": [
       "<Figure size 1008x432 with 1 Axes>"
      ]
     },
     "metadata": {
      "needs_background": "light"
     },
     "output_type": "display_data"
    }
   ],
   "source": [
    "pairs = pairs_to_test.copy()\n",
    "\n",
    "before_vals = []\n",
    "after_vals = []\n",
    "labels = []\n",
    "\n",
    "# Collect cosine similarities before and after equalization\n",
    "for w1, w2 in pairs:\n",
    "    before_vals.append(cosine_similarity(word_to_vec_map[w1], g))\n",
    "    before_vals.append(cosine_similarity(word_to_vec_map[w2], g))\n",
    "    \n",
    "    e1, e2 = equalize((w1, w2), g_unit, word_to_vec_map_unit_vectors)\n",
    "    after_vals.append(cosine_similarity(e1, g_unit))\n",
    "    after_vals.append(cosine_similarity(e2, g_unit))\n",
    "    \n",
    "    labels.extend([w1, w2])\n",
    "\n",
    "x = np.arange(len(labels)) \n",
    "width = 0.35\n",
    "\n",
    "fig, ax = plt.subplots(figsize=(14, 6))\n",
    "bars1 = ax.bar(x - width/2, before_vals, width, label='Before Equalization', color='tomato')\n",
    "bars2 = ax.bar(x + width/2, after_vals, width, label='After Equalization', color='royalblue')\n",
    "\n",
    "ax.set_ylabel('Cosine Similarity w.r.t Gender Direction')\n",
    "ax.set_title('Gender Bias Before and After Equalization')\n",
    "ax.set_xticks(x)\n",
    "ax.set_xticklabels(labels, rotation=45)\n",
    "ax.axhline(0, color='gray', linestyle='--', linewidth=0.8)\n",
    "ax.legend()\n",
    "plt.tight_layout()\n",
    "plt.grid(axis='y', linestyle=':', linewidth=0.5)\n",
    "\n",
    "plt.show()"
   ]
  },
  {
   "cell_type": "code",
   "execution_count": null,
   "metadata": {},
   "outputs": [],
   "source": []
  }
 ],
 "metadata": {
  "kernelspec": {
   "display_name": "Python 3",
   "language": "python",
   "name": "python3"
  },
  "language_info": {
   "codemirror_mode": {
    "name": "ipython",
    "version": 3
   },
   "file_extension": ".py",
   "mimetype": "text/x-python",
   "name": "python",
   "nbconvert_exporter": "python",
   "pygments_lexer": "ipython3",
   "version": "3.7.6"
  }
 },
 "nbformat": 4,
 "nbformat_minor": 4
}
